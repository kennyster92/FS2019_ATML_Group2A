{
 "cells": [
  {
   "cell_type": "markdown",
   "metadata": {},
   "source": [
    "# ATML - Melanoma detection\n",
    "\n",
    "The complete solution can be found on github (https://github.com/kennyster92/FS2019_ATML_Group2A)."
   ]
  },
  {
   "cell_type": "markdown",
   "metadata": {},
   "source": [
    "## Melanoma classification on \n",
    "\n",
    "Goal: Implement a deep learning algorithm to classify pictures of a melanoma as benign or malignant, based on the ISIC database (https://www.isic-archive.com/#!/topWithHeader/onlyHeaderTop/gallery)."
   ]
  },
  {
   "cell_type": "markdown",
   "metadata": {},
   "source": [
    "## Results\n",
    "\n",
    "| Setting | Train accuracy [\\%] | Validation accuracy [\\%] | Test accuracy [\\%] |\n",
    "| --- | --- | --- | --- |\n",
    "| a | b | c | d |\n",
    "| e | f | g | h |"
   ]
  },
  {
   "cell_type": "markdown",
   "metadata": {},
   "source": [
    "### Learning curves\n",
    "\n",
    "[Image]\n",
    "\n"
   ]
  },
  {
   "cell_type": "markdown",
   "metadata": {},
   "source": [
    "### Example of use"
   ]
  },
  {
   "cell_type": "code",
   "execution_count": null,
   "metadata": {},
   "outputs": [],
   "source": [
    "# load the libraries\n",
    "import torch\n",
    "from PIL import Image\n",
    "\n",
    "# load the model\n",
    "from net import Net\n",
    "model = Net()\n",
    "model.load_state_dict(torch.load('mnist_cnn.pt'))\n",
    "model.eval();"
   ]
  },
  {
   "cell_type": "code",
   "execution_count": null,
   "metadata": {},
   "outputs": [],
   "source": [
    "# Load sample image\n",
    "import numpy as np\n",
    "image = Image.open('shoe.jpg').convert('L')\n",
    "image = np.array(image)\n",
    "\n",
    "# Show image\n",
    "%matplotlib inline\n",
    "import matplotlib.pyplot as plt\n",
    "plt.imshow(image, cmap='gray')"
   ]
  },
  {
   "cell_type": "code",
   "execution_count": null,
   "metadata": {},
   "outputs": [],
   "source": [
    "# Run prediction\n",
    "label2name = {0:'T-shirt/top', 1:'Trouser', 2:'Pullover', 3:'Dress', 4:'Coat', 5:'Sandal', 6:'Shirt', 7:'Sneaker', 8:'Bag', 9:'Ankle boot'}\n",
    "with torch.no_grad():\n",
    "    out = model((torch.Tensor(image).view(1,1,28,28)/255-0.5)/0.5)\n",
    "    out = torch.softmax(out, -1)\n",
    "    \n",
    "ind = out[0].cpu().numpy().argmax()\n",
    "print('Prediction: {}, score: {:.4f}'.format(label2name[ind], out[0][ind]))"
   ]
  },
  {
   "cell_type": "markdown",
   "metadata": {},
   "source": [
    "## Sample test set errors"
   ]
  },
  {
   "cell_type": "code",
   "execution_count": null,
   "metadata": {},
   "outputs": [],
   "source": [
    "# Create the test data set\n",
    "from torchvision import datasets, transforms\n",
    "test_loader = torch.utils.data.DataLoader(\n",
    "    datasets.FashionMNIST('../data', train=False, transform=transforms.Compose([\n",
    "                       transforms.ToTensor(),\n",
    "                       transforms.Normalize((0.5,), (0.5,))\n",
    "                   ])),\n",
    "    batch_size=32, shuffle=False)"
   ]
  },
  {
   "cell_type": "code",
   "execution_count": null,
   "metadata": {},
   "outputs": [],
   "source": [
    "# Run prediction\n",
    "predictions = []\n",
    "prediction_scores = []\n",
    "labels = []\n",
    "for data, target in test_loader:\n",
    "    labels.extend(target)\n",
    "    with torch.no_grad():\n",
    "        output = model(data)\n",
    "        output = torch.softmax(output, -1)\n",
    "    output = output.cpu().numpy()\n",
    "    preds = output.argmax(-1)\n",
    "    predictions.extend(preds)\n",
    "    prediction_scores.extend(output[np.arange(output.shape[0]), preds])\n",
    "    \n",
    "# Detect indices where there is an error\n",
    "error_indices = np.where(np.array(labels) != np.array(predictions))[0]"
   ]
  },
  {
   "cell_type": "code",
   "execution_count": null,
   "metadata": {},
   "outputs": [],
   "source": [
    "def show_sample_mistake(error_indices, labels, predictions, prediction_scores):\n",
    "    ind = np.random.choice(error_indices)\n",
    "    plt.imshow(test_loader.dataset.test_data[ind], cmap='gray')\n",
    "    plt.title('True label: {}\\n Prediction: {}\\n Score: {:.6f}'.format(label2name[labels[ind].item()],\n",
    "                                                                    label2name[predictions[ind].item()],\n",
    "                                                                    prediction_scores[ind]))"
   ]
  },
  {
   "cell_type": "code",
   "execution_count": null,
   "metadata": {},
   "outputs": [],
   "source": [
    "show_sample_mistake(error_indices, labels, predictions, prediction_scores)"
   ]
  },
  {
   "cell_type": "code",
   "execution_count": null,
   "metadata": {},
   "outputs": [],
   "source": [
    "show_sample_mistake(error_indices, labels, predictions, prediction_scores)"
   ]
  }
 ],
 "metadata": {
  "kernelspec": {
   "display_name": "Python 3",
   "language": "python",
   "name": "python3"
  },
  "language_info": {
   "codemirror_mode": {
    "name": "ipython",
    "version": 3
   },
   "file_extension": ".py",
   "mimetype": "text/x-python",
   "name": "python",
   "nbconvert_exporter": "python",
   "pygments_lexer": "ipython3",
   "version": "3.7.1"
  }
 },
 "nbformat": 4,
 "nbformat_minor": 2
}
